{
 "cells": [
  {
   "cell_type": "markdown",
   "metadata": {},
   "source": [
    "# Transformações geométricas - Parte 1 do Projeto de Visão"
   ]
  },
  {
   "cell_type": "markdown",
   "metadata": {},
   "source": [
    "Vamos gerar uma imagem de entrada com algumas coordenadas conhecidas.  Desta seção você só vai precisar das coordenadas dos pontos na imagem de entrada e na imagem de saída"
   ]
  },
  {
   "cell_type": "code",
   "execution_count": 142,
   "metadata": {
    "collapsed": false
   },
   "outputs": [],
   "source": [
    "from sympy import symbols\n",
    "from sympy.core.trace import Tr\n",
    "from IPython.core.display import display_pretty\n",
    "from sympy.printing.latex import *\n",
    "from sympy import init_printing; init_printing()\n",
    "from sympy.interactive import printing\n",
    "printing.init_printing(use_latex=True)\n",
    "from IPython.display import display\n",
    "import math\n",
    "import sympy as sp\n",
    "from sympy import symbols\n",
    "from sympy.core.trace import Tr\n",
    "import matplotlib.pyplot as plt\n",
    "\n",
    "from numpy import linalg\n",
    "\n",
    "from matplotlib import colors\n",
    "\n",
    "import cv2\n",
    "\n",
    "import numpy as np\n",
    "\n",
    "%matplotlib inline\n",
    "\n",
    "\n",
    "sp_x = 30\n",
    "sp_y = 30\n",
    "x_blocks = 6\n",
    "y_blocks = 6"
   ]
  },
  {
   "cell_type": "code",
   "execution_count": 143,
   "metadata": {
    "collapsed": false
   },
   "outputs": [],
   "source": [
    "# Cria uma imagem RGB  em branco\n",
    "blank = 255*np.ones((sp_x * x_blocks,sp_y*y_blocks,3), np.uint8)"
   ]
  },
  {
   "cell_type": "code",
   "execution_count": 144,
   "metadata": {
    "collapsed": true
   },
   "outputs": [],
   "source": [
    "# Coordenadas de entrada de alguns pontos\n",
    "points = [[1,1],\n",
    "          [5,1],\n",
    "          [1,3],\n",
    "          [3,3],\n",
    "          [5,3],\n",
    "          [1,5],\n",
    "          [5,5]]"
   ]
  },
  {
   "cell_type": "code",
   "execution_count": 145,
   "metadata": {
    "collapsed": true
   },
   "outputs": [],
   "source": [
    "# Cores a usar para os pontos\n",
    "point_colors = ['r', 'g', 'b', 'c', 'm', 'y', 'k']"
   ]
  },
  {
   "cell_type": "markdown",
   "metadata": {},
   "source": [
    "## Coordenadas dos pontos na imagem de entrada\n",
    "\n",
    "Este loop imprime as coordenadas.\n",
    "\n",
    "As cores dos pontos servem para identificá-los"
   ]
  },
  {
   "cell_type": "code",
   "execution_count": 146,
   "metadata": {
    "collapsed": false
   },
   "outputs": [
    {
     "name": "stdout",
     "output_type": "stream",
     "text": [
      "Posição dos pontos: (x_entrada, y_entrada)\n",
      "(30, 30)\n",
      "(150, 30)\n",
      "(30, 90)\n",
      "(90, 90)\n",
      "(150, 90)\n",
      "(30, 150)\n",
      "(150, 150)\n"
     ]
    }
   ],
   "source": [
    "sp_x = 30 # x spacing\n",
    "sp_y = 30 # y spacing\n",
    "point_size = 5\n",
    "print(\"Posição dos pontos: (x_entrada, y_entrada)\")\n",
    "\n",
    "for i in range(len(points)):\n",
    "    point_color = [int(255*canal) for canal in colors.colorConverter.colors[point_colors[i]]]\n",
    "    point_position = (sp_x*points[i][0], sp_y*points[i][1])\n",
    "    print(point_position)\n",
    "    cv2.circle(blank,point_position, point_size, point_color, -1)\n"
   ]
  },
  {
   "cell_type": "markdown",
   "metadata": {},
   "source": [
    "## Imagem de entrada"
   ]
  },
  {
   "cell_type": "code",
   "execution_count": 147,
   "metadata": {
    "collapsed": false
   },
   "outputs": [
    {
     "data": {
      "text/plain": [
       "<matplotlib.image.AxesImage at 0x7fb0e3f4c150>"
      ]
     },
     "execution_count": 147,
     "metadata": {},
     "output_type": "execute_result"
    },
    {
     "data": {
      "image/png": "[encoded data removed]",
      "text/plain": [
       "<matplotlib.figure.Figure at 0x7fb0e3c2d210>"
      ]
     },
     "metadata": {},
     "output_type": "display_data"
    }
   ],
   "source": [
    "plt.imshow(blank)"
   ]
  },
  {
   "cell_type": "markdown",
   "metadata": {},
   "source": [
    "Se precisar abrir a imagem fora deste *notebook*, use o arquivo `dots_pattern.png`\n"
   ]
  },
  {
   "cell_type": "code",
   "execution_count": 148,
   "metadata": {
    "collapsed": false
   },
   "outputs": [
    {
     "data": {
      "text/plain": [
       "True"
      ]
     },
     "execution_count": 148,
     "metadata": {},
     "output_type": "execute_result"
    }
   ],
   "source": [
    "cv2.imwrite(\"dots_pattern.png\", blank)"
   ]
  },
  {
   "cell_type": "markdown",
   "metadata": {},
   "source": [
    "## Padrão de saída\n",
    "\n",
    "Foi aplicada uma transformação à imagem de entrada, que gerou o seguinte padrão de saída:"
   ]
  },
  {
   "cell_type": "code",
   "execution_count": 149,
   "metadata": {
    "collapsed": false
   },
   "outputs": [],
   "source": [
    "saida = cv2.imread(\"patterns_transformed.png\")\n",
    "\n",
    "saida_rgb = cv2.cvtColor(saida, cv2.COLOR_BGR2RGB)"
   ]
  },
  {
   "cell_type": "code",
   "execution_count": 150,
   "metadata": {
    "collapsed": false
   },
   "outputs": [
    {
     "data": {
      "text/plain": [
       "<matplotlib.image.AxesImage at 0x7fb0e3996950>"
      ]
     },
     "execution_count": 150,
     "metadata": {},
     "output_type": "execute_result"
    },
    {
     "data": {
      "image/png": "[encoded data removed]",
      "text/plain": [
       "<matplotlib.figure.Figure at 0x7fb0e3fd6c90>"
      ]
     },
     "metadata": {},
     "output_type": "display_data"
    }
   ],
   "source": [
    "plt.imshow(saida)"
   ]
  },
  {
   "cell_type": "markdown",
   "metadata": {},
   "source": [
    "Sabe-se que a imagem de saída é igual a uma combinação de rotações em torno de um ponto arbitrário e  redimensionamentos (escala) da imagem de entrada. Para simplificar, assuma que o redimensionamento é igual nos eixos $x$ e $y$\n",
    "\n",
    "Cada ponto da imagem de saída está relacionado à sua posição na imagem de entrada pela seguinte transformação:\n",
    "\n",
    "$$\n",
    "\\begin{pmatrix}\n",
    "x_{saida} \\\\\n",
    "y_{saida} \\\\\n",
    "1\n",
    "\\end{pmatrix}\n",
    " = \n",
    "\\begin{pmatrix}\n",
    "   \\alpha &\\beta &(1-\\alpha \\cdot center.x - \\beta \\cdot center.y) \\\\\n",
    "   -\\beta & \\alpha & \\beta \\cdot center.x + (1 - \\alpha \\cdot center.y) \\\\ 0 & 0 & 1\n",
    "\\end{pmatrix} \\cdot \\begin{pmatrix} x_{entrada} \\\\ y_{entrada} \\\\ 1 \\end{pmatrix} \n",
    "$$\n",
    "\n",
    "Na equação acima:\n",
    "\n",
    "$\\alpha = escala \\cdot \\cos(\\theta)$ \n",
    "\n",
    "$\\beta = escala \\cdot \\sin(\\theta) $ \n",
    "\n",
    "$x_{entrada}$ é a posição $x$ de cada pixel na imagem de entrada\n",
    "\n",
    "$y_{entrada}$ é a posição $y$ de cada pixel na imagem de entrada\n",
    "\n",
    "$center$ é o centro de rotação\n",
    "\n",
    "$x_{saída}$ é a coordenada $x$ do pixel na imagem de saída\n",
    "\n",
    "$y_{saída}$ é a coordenada $y$ do pixel na imagem de saída\n",
    "\n",
    "\n",
    "Com translação:\n",
    "\n",
    "$$\n",
    "\\begin{pmatrix}\n",
    "x_{saida} \\\\\n",
    "y_{saida} \\\\\n",
    "1\n",
    "\\end{pmatrix}\n",
    " =\n",
    "\\begin{pmatrix}\n",
    "   \\alpha &\\beta &(1-\\alpha \\cdot center.x - \\beta \\cdot center.y) + t_x \\\\\n",
    "   -\\beta & \\alpha & \\beta \\cdot center.x + (1 - \\alpha \\cdot center.y) + t_y \\\\ 0 & 0 & 1\n",
    "\\end{pmatrix} \\cdot \\begin{pmatrix} x_{entrada} \\\\ y_{entrada} \\\\ 1 \\end{pmatrix}\n",
    "$$\n",
    "\n"
   ]
  },
  {
   "cell_type": "markdown",
   "metadata": {},
   "source": [
    "# Matrizes de transformação com rotação, translação e escala\n",
    "\n",
    "\n",
    "Uma matriz de translação por uma distância $ [ x_t   y_t ]$ em 2D é:\n",
    "\n",
    "$$\n",
    "T = \\begin{pmatrix} 1 & 0 & x_t \\\\\n",
    "0 & 1 & y_t \\\\\n",
    "0 & 0 & 1 \n",
    "\\end{pmatrix}\n",
    "$$\n",
    "\n",
    "Uma matriz de rotação por um ângulo $\\theta$ é:\n",
    "\n",
    "$$\n",
    "R = \\begin{pmatrix} \\cos(\\theta) & -\\sin(\\theta) & 0 \\\\\n",
    "\\sin(\\theta) & \\cos(\\theta) & 0 \\\\\n",
    "0 & 0 & 1 \n",
    "\\end{pmatrix}\n",
    "$$\n",
    "\n",
    "Uma matriz que aplica um fator de escala  $s$ igual nos eixos $x$ e $y$ é:\n",
    "\n",
    "\n",
    "$$\n",
    "S = \\begin{pmatrix} s & 0  & 0 \\\\\n",
    "0 & s & 0 \\\\\n",
    "0 & 0 & 1 \n",
    "\\end{pmatrix}\n",
    "$$\n",
    "\n",
    "\n",
    "Uma transformação genérica, composta de rotação, escala e transação (nesta ordem) é dada por:\n",
    "\n",
    "$$\n",
    "M = T \\cdot S \\cdot R\n",
    "$$\n",
    "\n",
    "Ou seja:\n",
    "$$\n",
    "M = \\begin{pmatrix} 1 & 0 & x_t \\\\\n",
    "0 & 1 & y_t \\\\\n",
    "0 & 0 & 1 \n",
    "\\end{pmatrix}\n",
    "\\cdot\n",
    "\\begin{pmatrix} \\cos(\\theta) & -\\sin(\\theta) & 0 \\\\\n",
    "\\sin(\\theta) & \\cos(\\theta) & 0 \\\\\n",
    "0 & 0 & 1 \n",
    "\\end{pmatrix}\n",
    "\\cdot\n",
    "\\begin{pmatrix} s & 0  & 0 \\\\\n",
    "0 & s & 0 \\\\\n",
    "0 & 0 & 1 \n",
    "\\end{pmatrix}\n",
    "$$\n",
    "\n",
    "Multiplicando as três matrizes, temos que uma transformação afim composta de rotação, escala e translação é:\n",
    "\n",
    "$$\n",
    "M = \\begin{pmatrix} s\\cdot\\cos(\\theta) & -s\\cdot\\sin(\\theta) & x_t \\\\\n",
    "-s\\cdot\\sin(\\theta) & -s\\cdot\\cos(\\theta) & y_t \\\\\n",
    "0 & 0 & 1 \n",
    "\\end{pmatrix}\n",
    "$$\n",
    "\n",
    "\n",
    "Desta forma, um ponto de entrada representado por $( x_{i}, y_{i} ) $ será transformado num ponto de saída $(x_{saida}, y_{saida})$ quando multiplicado pela matrix $M$\n",
    "\n",
    "\n",
    "$$\n",
    "\\begin{pmatrix}x_{saida} \\\\ y_{saida} \\end{pmatrix} = \\begin{pmatrix} s\\cdot\\cos(\\theta) & -s\\cdot\\sin(\\theta) & x_t \\\\\n",
    "-s\\cdot\\sin(\\theta) & -s\\cdot\\cos(\\theta) & y_t \\\\\n",
    "0 & 0 & 1 \n",
    "\\end{pmatrix} \\cdot \\begin{pmatrix} x_{i} \\\\ y_{i} \\end{pmatrix} \n",
    "$$\n",
    "\n",
    "Teremos, então:\n",
    "\n",
    "$$\n",
    "x_{saida} = x_{i} \\cdot s \\cdot \\cos(\\theta) - y_{i} \\cdot s \\cdot \\sin(\\theta) + x_t $$\n",
    "e \n",
    "$$ y_{saida} = - x_{i} \\cdot s \\cdot \\sin(\\theta) - y_{i} \\cdot s \\cdot \\cos(\\theta) + y_t\n",
    "$$\n",
    "\n",
    "Por simplicidade, ao estimar uma transformação, ajuda trabalhar com as seguintes relações:\n",
    "\n",
    "$\\alpha =  s \\cdot \\cos(\\theta)$\n",
    "\n",
    "e \n",
    "\n",
    "$\\beta = s \\cdot \\sin(\\theta) $\n",
    "\n",
    "E encarar a matriz da seguinte forma:\n",
    "\n",
    "\n",
    "$$\n",
    "\\begin{pmatrix}x_{saida} \\\\ y_{saida} \\end{pmatrix} = \\begin{pmatrix} \\alpha & -\\beta & x_t \\\\\n",
    "-\\beta & -\\alpha & y_t \\\\\n",
    "0 & 0 & 1 \n",
    "\\end{pmatrix} \\cdot \\begin{pmatrix} x_{i} \\\\ y_{i} \\end{pmatrix} \n",
    "$$\n",
    "\n"
   ]
  },
  {
   "cell_type": "markdown",
   "metadata": {},
   "source": [
    "# Atividade 1\n",
    "\n",
    "Responda (no IPython Notebook): \n",
    "\n",
    "1. Quantos graus de liberdade (variáveis) determinam a transformação acima?\n",
    "\n",
    "2. Supondo que a transformação aplicada para transformar a imagem de entrada na imagem do arquivo `patterns_transformed.png` é desconhecida, é possível descobrir qual é esta transformação? Como?\n",
    "\n",
    "3. Crie uma tabela para os 7 pontos de entrada fornecidos em que constem quais suas posições na imagem de entrada e depois quais suas posições após transformados, na imagem de saída.\n",
    "\n",
    "4. Considerando o número de variáveis da matriz de transformação fornecida, de quantas correspondências $p_{entrada} \\Rightarrow p_{saida}$ você precisa para descobrir qual é a matriz?\n",
    "\n",
    "5. Por que poderia ser útil usar **mais** correspondências do que a resposta que você deu no item anterior?\n",
    "\n",
    "6. Expanda a equação da transformação usando os pontos de entrada e saída de sua tabela até ter um sistema sobredeterminado. <font color=red> Reserve pelo menos 1 hora para esta atividade - trabalhoso </font>. Talvez você ache útil aprender a usar um *Computer Algebra System* para fazer isso, por exemplo o Sympy ou o Maxima.\n",
    "\n",
    "7. A partir do sistema sobredeterminado que você encontrou no item anterior, resolva e estime qual é a transformação que foi usada para converter a imagem de entrada na imagem de saída. Você pode usar o método de *Least Squares* que está presente no *Scipy* ou o *RANSAC* da OpenCV, por exemplo.\n",
    "\n",
    "8. Aplique a transformação à imagem de entrada e verifique se o resultado que obteve se assemelha à imagem de saída. A função da OpenCV que permite que você faça isso é a *cv2.warpAffine()* "
   ]
  },
  {
   "cell_type": "markdown",
   "metadata": {},
   "source": [
    "## Referências\n",
    "\n",
    "\n",
    "\n",
    "[Shapiro and Shepard. Computer Vision. Seção 11.2, Capítulo 11](https://courses.cs.washington.edu/courses/cse576/book/ch11.pdf)\n",
    "\n",
    "[http://docs.opencv.org/3.1.0/da/d6e/tutorial_py_geometric_transformations.html#gsc.tab=0](http://docs.opencv.org/3.1.0/da/d6e/tutorial_py_geometric_transformations.html#gsc.tab=0)\n",
    "\n"
   ]
  },
  {
   "cell_type": "markdown",
   "metadata": {
    "collapsed": true
   },
   "source": [
    "# 1)"
   ]
  },
  {
   "cell_type": "markdown",
   "metadata": {},
   "source": [
    "A trasformação acima é definida por dois graus de liberdade: rotação e escala proporcional."
   ]
  },
  {
   "cell_type": "markdown",
   "metadata": {},
   "source": [
    "# 2)"
   ]
  },
  {
   "cell_type": "markdown",
   "metadata": {},
   "source": [
    "Como a imagem fornece pontos coloridos como referência, apenas observando é possivel concluir as transformações ocorridas. Também podemos analisar a transformção através de sua matriz:\n",
    "\n",
    "$$\n",
    "\\begin{pmatrix}\n",
    "x_{saida} \\\\\n",
    "y_{saida} \\\\\n",
    "1\n",
    "\\end{pmatrix}\n",
    " = \n",
    "\\begin{pmatrix}\n",
    "   \\alpha &\\beta &(1-\\alpha \\cdot center.x - \\beta \\cdot center.y) \\\\\n",
    "   -\\beta & \\alpha & \\beta \\cdot center.x + (1 - \\alpha \\cdot center.y) \\\\ 0 & 0 & 1\n",
    "\\end{pmatrix} \\cdot \\begin{pmatrix} x_{entrada} \\\\ y_{entrada} \\\\ 1 \\end{pmatrix} \n",
    "$$"
   ]
  },
  {
   "cell_type": "markdown",
   "metadata": {},
   "source": [
    "# 3)"
   ]
  },
  {
   "cell_type": "code",
   "execution_count": 151,
   "metadata": {
    "collapsed": true
   },
   "outputs": [],
   "source": [
    "class ListTable(list):\n",
    "    \"\"\" Overridden list class which takes a 2-dimensional list of \n",
    "        the form [[1,2,3],[4,5,6]], and renders an HTML Table in \n",
    "        IPython Notebook. \"\"\"\n",
    "    \n",
    "    def _repr_html_(self):\n",
    "        html = [\"<table>\"]\n",
    "        for row in self:\n",
    "            html.append(\"<tr>\")\n",
    "            \n",
    "            for col in row:\n",
    "                html.append(\"<td>{0}</td>\".format(col))\n",
    "            \n",
    "            html.append(\"</tr>\")\n",
    "        html.append(\"</table>\")\n",
    "        return ''.join(html)\n",
    "        "
   ]
  },
  {
   "cell_type": "code",
   "execution_count": 152,
   "metadata": {
    "collapsed": false
   },
   "outputs": [],
   "source": [
    "colors = ['b','g','r','c','m','y','k']\n",
    "\n",
    "saidas = [(138,96),(249,141),(115,151),(170,174),(226,197),(92,206),(203,252)] #gimp\n",
    "entradas = []\n",
    "\n",
    "for i in range(len(points)):\n",
    "    point_position = (sp_x*points[i][0], sp_y*points[i][1])\n",
    "    entradas.append(point_position)"
   ]
  },
  {
   "cell_type": "code",
   "execution_count": 153,
   "metadata": {
    "collapsed": false
   },
   "outputs": [
    {
     "data": {
      "text/html": [
       "<table><tr><td>Color</td><td>x entrada</td><td>y entrada</td><td>x saida</td><td>y saida</td></tr><tr><td>b</td><td>30</td><td>30</td><td>138</td><td>96</td></tr><tr><td>g</td><td>150</td><td>30</td><td>249</td><td>141</td></tr><tr><td>r</td><td>30</td><td>90</td><td>115</td><td>151</td></tr><tr><td>c</td><td>90</td><td>90</td><td>170</td><td>174</td></tr><tr><td>m</td><td>150</td><td>90</td><td>226</td><td>197</td></tr><tr><td>y</td><td>30</td><td>150</td><td>92</td><td>206</td></tr><tr><td>k</td><td>150</td><td>150</td><td>203</td><td>252</td></tr></table>"
      ],
      "text/plain": [
       "[['Color', 'x entrada', 'y entrada', 'x saida', 'y saida'],\n",
       " ['b', 30, 30, 138, 96],\n",
       " ['g', 150, 30, 249, 141],\n",
       " ['r', 30, 90, 115, 151],\n",
       " ['c', 90, 90, 170, 174],\n",
       " ['m', 150, 90, 226, 197],\n",
       " ['y', 30, 150, 92, 206],\n",
       " ['k', 150, 150, 203, 252]]"
      ]
     },
     "execution_count": 153,
     "metadata": {},
     "output_type": "execute_result"
    }
   ],
   "source": [
    "table = ListTable()\n",
    "table.append(['Color','x entrada','y entrada','x saida','y saida'])\n",
    "for i in range(len(entradas)):\n",
    "    table.append([colors[i],entradas[i][0],entradas[i][1],saidas[i][0],saidas[i][1]])\n",
    "table"
   ]
  },
  {
   "cell_type": "markdown",
   "metadata": {},
   "source": [
    "# 4)"
   ]
  },
  {
   "cell_type": "markdown",
   "metadata": {},
   "source": [
    "A matriz contém quatro variáveis, então seria necessário um sistema com no minimo quatro equações. Um único ponto gera duas equações, então o minimo de correspondências necessárias seriam duas, para gerar quatro equações."
   ]
  },
  {
   "cell_type": "markdown",
   "metadata": {},
   "source": [
    "# 5)"
   ]
  },
  {
   "cell_type": "markdown",
   "metadata": {},
   "source": [
    "Não necessariamente seria mais \"util\" usar mais correspondências, a utilidade é a mesma, porém com mais correspondência a margem de erro existente é reduzida."
   ]
  },
  {
   "cell_type": "markdown",
   "metadata": {},
   "source": [
    "# 6)"
   ]
  },
  {
   "cell_type": "code",
   "execution_count": 154,
   "metadata": {
    "collapsed": true
   },
   "outputs": [],
   "source": [
    "alpha, beta, c_x, c_y,  t_x, t_y, theta, scale, a, b =  sp.symbols(\"alpha, beta, c_x, c_y, t_x, t_y, theta, scale, a, b\")"
   ]
  },
  {
   "cell_type": "code",
   "execution_count": 155,
   "metadata": {
    "collapsed": true
   },
   "outputs": [],
   "source": [
    "def make_translation(transx, transy):\n",
    "    \"\"\"\n",
    "        Receives x and y translation values and returns a translation matrix\n",
    "    \"\"\"\n",
    "    return sp.Matrix([[1, 0, transx],[0, 1, transy ],[0, 0, 1]])\n",
    "\n",
    "def make_rotation(angle):\n",
    "    \"\"\"\n",
    "        Counter-clockwise rotations to match OpenCV.\n",
    "        TODO: really check if OpenCV rotates according to documentation\n",
    "    \"\"\"\n",
    "    a = sp.cos(angle)\n",
    "    b = sp.sin(angle)\n",
    "    return sp.Matrix([[a, b, 0],[-b, a, 0 ],[0, 0, 1]])\n",
    "\n",
    "def make_rotation_scale_a_b():\n",
    "    \"\"\"\n",
    "        returns a generic rotation matrix where\n",
    "        a = scale.cos(angle)\n",
    "        b = scale.sin(angle)\n",
    "    \"\"\"\n",
    "    return sp.Matrix([[a, b, 0],[-b, a, 0 ],[0, 0, 1]])\n",
    "\n",
    "\n",
    "def make_scale(scale_f):\n",
    "    return sp.Matrix([[scale, 0, 0],[0, scale, 0 ],[0, 0, 1]])\n",
    "    \n",
    "def make_column_point(x, y):\n",
    "    return sp.Matrix([[x],[y],[1]])"
   ]
  },
  {
   "cell_type": "code",
   "execution_count": 156,
   "metadata": {
    "collapsed": false
   },
   "outputs": [],
   "source": [
    "# Pontos na entrada\n",
    "x0, y0, x1, y1, x2, y2, x3, y3, x4, y4, x5, y5, x6, y6 = sp.symbols(\"x_0, y_0, x_1, y_1, x_2, y_2, x_3, y_3, x_4, y_4, x_5, y_5, x_6, y_6\")\n",
    "p0 = make_column_point(x0, y0)\n",
    "p1 = make_column_point(x1, y1)\n",
    "p2 = make_column_point(x2, y2)\n",
    "p3 = make_column_point(x3, y3)\n",
    "p4 = make_column_point(x4, y4)\n",
    "p5 = make_column_point(x5, y5)\n",
    "p6 = make_column_point(x6, y6)\n",
    "\n",
    "points_entrada = [p0, p1, p2, p3, p4, p5, p6]\n",
    "\n",
    "# Pontos na saida\n",
    "xs0, ys0, xs1, ys1, xs2, ys2, xs3, ys3, xs4, ys4, xs5, ys5, xs6, ys6 = sp.symbols(\"x_s0, y_s0, x_s1, y_s1, x_s2, y_s2, x_s3, y_s3, x_s4, y_s4, x_s5, y_s5, x_s6, y_s6\")\n",
    "\n",
    "ps0 = make_column_point(xs0, ys0)\n",
    "ps1 = make_column_point(xs1, ys1)\n",
    "ps2 = make_column_point(xs2, ys2)\n",
    "ps3 = make_column_point(xs3, ys3)\n",
    "ps4 = make_column_point(xs4, ys4)\n",
    "ps5 = make_column_point(xs5, ys5)\n",
    "ps6 = make_column_point(xs6, ys6)\n",
    "\n",
    "points_saida = [ps0, ps1, ps2, ps3, ps4, ps5, ps6]"
   ]
  },
  {
   "cell_type": "code",
   "execution_count": 157,
   "metadata": {
    "collapsed": false
   },
   "outputs": [
    {
     "data": {
      "text/latex": [
       "$$\\left [ \\left[\\begin{matrix}x_{0}\\\\y_{0}\\\\1\\end{matrix}\\right], \\quad \\left[\\begin{matrix}x_{1}\\\\y_{1}\\\\1\\end{matrix}\\right], \\quad \\left[\\begin{matrix}x_{2}\\\\y_{2}\\\\1\\end{matrix}\\right], \\quad \\left[\\begin{matrix}x_{3}\\\\y_{3}\\\\1\\end{matrix}\\right], \\quad \\left[\\begin{matrix}x_{4}\\\\y_{4}\\\\1\\end{matrix}\\right], \\quad \\left[\\begin{matrix}x_{5}\\\\y_{5}\\\\1\\end{matrix}\\right], \\quad \\left[\\begin{matrix}x_{6}\\\\y_{6}\\\\1\\end{matrix}\\right]\\right ]$$"
      ],
      "text/plain": [
       "⎡⎡x₀⎤, ⎡x₁⎤, ⎡x₂⎤, ⎡x₃⎤, ⎡x₄⎤, ⎡x₅⎤, ⎡x₆⎤⎤\n",
       "⎢⎢  ⎥  ⎢  ⎥  ⎢  ⎥  ⎢  ⎥  ⎢  ⎥  ⎢  ⎥  ⎢  ⎥⎥\n",
       "⎢⎢y₀⎥  ⎢y₁⎥  ⎢y₂⎥  ⎢y₃⎥  ⎢y₄⎥  ⎢y₅⎥  ⎢y₆⎥⎥\n",
       "⎢⎢  ⎥  ⎢  ⎥  ⎢  ⎥  ⎢  ⎥  ⎢  ⎥  ⎢  ⎥  ⎢  ⎥⎥\n",
       "⎣⎣1 ⎦  ⎣1 ⎦  ⎣1 ⎦  ⎣1 ⎦  ⎣1 ⎦  ⎣1 ⎦  ⎣1 ⎦⎦"
      ]
     },
     "execution_count": 157,
     "metadata": {},
     "output_type": "execute_result"
    }
   ],
   "source": [
    "points_entrada"
   ]
  },
  {
   "cell_type": "code",
   "execution_count": 158,
   "metadata": {
    "collapsed": false
   },
   "outputs": [
    {
     "data": {
      "text/latex": [
       "$$\\left [ \\left[\\begin{matrix}x_{s0}\\\\y_{s0}\\\\1\\end{matrix}\\right], \\quad \\left[\\begin{matrix}x_{s1}\\\\y_{s1}\\\\1\\end{matrix}\\right], \\quad \\left[\\begin{matrix}x_{s2}\\\\y_{s2}\\\\1\\end{matrix}\\right], \\quad \\left[\\begin{matrix}x_{s3}\\\\y_{s3}\\\\1\\end{matrix}\\right], \\quad \\left[\\begin{matrix}x_{s4}\\\\y_{s4}\\\\1\\end{matrix}\\right], \\quad \\left[\\begin{matrix}x_{s5}\\\\y_{s5}\\\\1\\end{matrix}\\right], \\quad \\left[\\begin{matrix}x_{s6}\\\\y_{s6}\\\\1\\end{matrix}\\right]\\right ]$$"
      ],
      "text/plain": [
       "⎡⎡x_s0⎤, ⎡x_s1⎤, ⎡x_s2⎤, ⎡x_s3⎤, ⎡x_s4⎤, ⎡x_s5⎤, ⎡x_s6⎤⎤\n",
       "⎢⎢    ⎥  ⎢    ⎥  ⎢    ⎥  ⎢    ⎥  ⎢    ⎥  ⎢    ⎥  ⎢    ⎥⎥\n",
       "⎢⎢y_s0⎥  ⎢y_s1⎥  ⎢y_s2⎥  ⎢y_s3⎥  ⎢y_s4⎥  ⎢y_s5⎥  ⎢y_s6⎥⎥\n",
       "⎢⎢    ⎥  ⎢    ⎥  ⎢    ⎥  ⎢    ⎥  ⎢    ⎥  ⎢    ⎥  ⎢    ⎥⎥\n",
       "⎣⎣ 1  ⎦  ⎣ 1  ⎦  ⎣ 1  ⎦  ⎣ 1  ⎦  ⎣ 1  ⎦  ⎣ 1  ⎦  ⎣ 1  ⎦⎦"
      ]
     },
     "execution_count": 158,
     "metadata": {},
     "output_type": "execute_result"
    }
   ],
   "source": [
    "points_saida"
   ]
  },
  {
   "cell_type": "code",
   "execution_count": 159,
   "metadata": {
    "collapsed": false
   },
   "outputs": [],
   "source": [
    "rotab = make_rotation_scale_a_b()\n",
    "trans = make_translation(t_x, t_y)\n",
    "M = trans*rotab"
   ]
  },
  {
   "cell_type": "code",
   "execution_count": 160,
   "metadata": {
    "collapsed": false
   },
   "outputs": [
    {
     "data": {
      "text/latex": [
       "$$\\left[\\begin{matrix}a & b & t_{x}\\\\- b & a & t_{y}\\\\0 & 0 & 1\\end{matrix}\\right]$$"
      ],
      "text/plain": [
       "⎡a   b  tₓ ⎤\n",
       "⎢          ⎥\n",
       "⎢-b  a  t_y⎥\n",
       "⎢          ⎥\n",
       "⎣0   0   1 ⎦"
      ]
     },
     "execution_count": 160,
     "metadata": {},
     "output_type": "execute_result"
    }
   ],
   "source": [
    "M"
   ]
  },
  {
   "cell_type": "code",
   "execution_count": 161,
   "metadata": {
    "collapsed": false
   },
   "outputs": [],
   "source": [
    "equations = []\n",
    "system_eq = [] # Sistema de equações supondo =0\n",
    "left_side = [] # Lado esquerdo do sistema\n",
    "right_side = [] # Lado direito do sistema\n",
    "sys = []"
   ]
  },
  {
   "cell_type": "code",
   "execution_count": 162,
   "metadata": {
    "collapsed": true
   },
   "outputs": [],
   "source": [
    "for p in points_entrada:\n",
    "    produto = M*p\n",
    "    equations.append(produto)"
   ]
  },
  {
   "cell_type": "code",
   "execution_count": 163,
   "metadata": {
    "collapsed": false
   },
   "outputs": [],
   "source": [
    "for i in range(len(equations)):\n",
    "    for j in range(len(equations[i][:-1])): # -1 excludes the homogeneous coordinate (extra 1 at the end)\n",
    "        left_side.append(equations[i][j])\n",
    "        right_side.append(points_saida[i][j])\n",
    "        eq = equations[i][j] - points_saida[i][j]\n",
    "        sys.append(eq)"
   ]
  },
  {
   "cell_type": "code",
   "execution_count": 164,
   "metadata": {
    "collapsed": false
   },
   "outputs": [
    {
     "data": {
      "image/png": "[encoded data removed]",
      "text/latex": [
       "$$a x_{0} + b y_{0} + t_{x} - x_{s0}$$"
      ],
      "text/plain": [
       "a⋅x₀ + b⋅y₀ + tₓ - x_s0"
      ]
     },
     "metadata": {},
     "output_type": "display_data"
    },
    {
     "data": {
      "image/png": "[encoded data removed]",
      "text/latex": [
       "$$a y_{0} - b x_{0} + t_{y} - y_{s0}$$"
      ],
      "text/plain": [
       "a⋅y₀ - b⋅x₀ + t_y - y_s0"
      ]
     },
     "metadata": {},
     "output_type": "display_data"
    },
    {
     "data": {
      "image/png": "[encoded data removed]",
      "text/latex": [
       "$$a x_{1} + b y_{1} + t_{x} - x_{s1}$$"
      ],
      "text/plain": [
       "a⋅x₁ + b⋅y₁ + tₓ - x_s1"
      ]
     },
     "metadata": {},
     "output_type": "display_data"
    },
    {
     "data": {
      "image/png": "[encoded data removed]",
      "text/latex": [
       "$$a y_{1} - b x_{1} + t_{y} - y_{s1}$$"
      ],
      "text/plain": [
       "a⋅y₁ - b⋅x₁ + t_y - y_s1"
      ]
     },
     "metadata": {},
     "output_type": "display_data"
    },
    {
     "data": {
      "image/png": "[encoded data removed]",
      "text/latex": [
       "$$a x_{2} + b y_{2} + t_{x} - x_{s2}$$"
      ],
      "text/plain": [
       "a⋅x₂ + b⋅y₂ + tₓ - x_s2"
      ]
     },
     "metadata": {},
     "output_type": "display_data"
    },
    {
     "data": {
      "image/png": "[encoded data removed]",
      "text/latex": [
       "$$a y_{2} - b x_{2} + t_{y} - y_{s2}$$"
      ],
      "text/plain": [
       "a⋅y₂ - b⋅x₂ + t_y - y_s2"
      ]
     },
     "metadata": {},
     "output_type": "display_data"
    },
    {
     "data": {
      "image/png": "[encoded data removed]",
      "text/latex": [
       "$$a x_{3} + b y_{3} + t_{x} - x_{s3}$$"
      ],
      "text/plain": [
       "a⋅x₃ + b⋅y₃ + tₓ - x_s3"
      ]
     },
     "metadata": {},
     "output_type": "display_data"
    },
    {
     "data": {
      "image/png": "[encoded data removed]",
      "text/latex": [
       "$$a y_{3} - b x_{3} + t_{y} - y_{s3}$$"
      ],
      "text/plain": [
       "a⋅y₃ - b⋅x₃ + t_y - y_s3"
      ]
     },
     "metadata": {},
     "output_type": "display_data"
    },
    {
     "data": {
      "image/png": "[encoded data removed]",
      "text/latex": [
       "$$a x_{4} + b y_{4} + t_{x} - x_{s4}$$"
      ],
      "text/plain": [
       "a⋅x₄ + b⋅y₄ + tₓ - x_s4"
      ]
     },
     "metadata": {},
     "output_type": "display_data"
    },
    {
     "data": {
      "image/png": "[encoded data removed]",
      "text/latex": [
       "$$a y_{4} - b x_{4} + t_{y} - y_{s4}$$"
      ],
      "text/plain": [
       "a⋅y₄ - b⋅x₄ + t_y - y_s4"
      ]
     },
     "metadata": {},
     "output_type": "display_data"
    },
    {
     "data": {
      "image/png": "[encoded data removed]",
      "text/latex": [
       "$$a x_{5} + b y_{5} + t_{x} - x_{s5}$$"
      ],
      "text/plain": [
       "a⋅x₅ + b⋅y₅ + tₓ - x_s5"
      ]
     },
     "metadata": {},
     "output_type": "display_data"
    },
    {
     "data": {
      "image/png": "[encoded data removed]",
      "text/latex": [
       "$$a y_{5} - b x_{5} + t_{y} - y_{s5}$$"
      ],
      "text/plain": [
       "a⋅y₅ - b⋅x₅ + t_y - y_s5"
      ]
     },
     "metadata": {},
     "output_type": "display_data"
    },
    {
     "data": {
      "image/png": "[encoded data removed]",
      "text/latex": [
       "$$a x_{6} + b y_{6} + t_{x} - x_{s6}$$"
      ],
      "text/plain": [
       "a⋅x₆ + b⋅y₆ + tₓ - x_s6"
      ]
     },
     "metadata": {},
     "output_type": "display_data"
    },
    {
     "data": {
      "image/png": "[encoded data removed]",
      "text/latex": [
       "$$a y_{6} - b x_{6} + t_{y} - y_{s6}$$"
      ],
      "text/plain": [
       "a⋅y₆ - b⋅x₆ + t_y - y_s6"
      ]
     },
     "metadata": {},
     "output_type": "display_data"
    }
   ],
   "source": [
    "for equation in sys:\n",
    "    display(equation)"
   ]
  },
  {
   "cell_type": "markdown",
   "metadata": {
    "collapsed": true
   },
   "source": [
    "# 7)"
   ]
  },
  {
   "cell_type": "markdown",
   "metadata": {},
   "source": [
    "http://glowingpython.blogspot.com.br/2012/03/linear-regression-with-numpy.html"
   ]
  },
  {
   "cell_type": "code",
   "execution_count": 165,
   "metadata": {
    "collapsed": false
   },
   "outputs": [],
   "source": [
    "In_ex = sp.Matrix([[x0,y0,1,0],[y0,-x0,0,1],[x1,y1,1,0],[y1,-x1,0,1],[x2,y2,1,0],[y2,-x2,0,1],[x3,y3,1,0],[y3,-x3,0,1],[x4,y4,1,0],[y4,-x4,0,1],[x5,y5,1,0],[y5,-x5,0,1],[x6,y6,1,0],[y6,-x6,0,1],])"
   ]
  },
  {
   "cell_type": "code",
   "execution_count": 166,
   "metadata": {
    "collapsed": false
   },
   "outputs": [
    {
     "data": {
      "text/latex": [
       "$$\\left[\\begin{matrix}x_{0} & y_{0} & 1 & 0\\\\y_{0} & - x_{0} & 0 & 1\\\\x_{1} & y_{1} & 1 & 0\\\\y_{1} & - x_{1} & 0 & 1\\\\x_{2} & y_{2} & 1 & 0\\\\y_{2} & - x_{2} & 0 & 1\\\\x_{3} & y_{3} & 1 & 0\\\\y_{3} & - x_{3} & 0 & 1\\\\x_{4} & y_{4} & 1 & 0\\\\y_{4} & - x_{4} & 0 & 1\\\\x_{5} & y_{5} & 1 & 0\\\\y_{5} & - x_{5} & 0 & 1\\\\x_{6} & y_{6} & 1 & 0\\\\y_{6} & - x_{6} & 0 & 1\\end{matrix}\\right]$$"
      ],
      "text/plain": [
       "⎡x₀  y₀   1  0⎤\n",
       "⎢             ⎥\n",
       "⎢y₀  -x₀  0  1⎥\n",
       "⎢             ⎥\n",
       "⎢x₁  y₁   1  0⎥\n",
       "⎢             ⎥\n",
       "⎢y₁  -x₁  0  1⎥\n",
       "⎢             ⎥\n",
       "⎢x₂  y₂   1  0⎥\n",
       "⎢             ⎥\n",
       "⎢y₂  -x₂  0  1⎥\n",
       "⎢             ⎥\n",
       "⎢x₃  y₃   1  0⎥\n",
       "⎢             ⎥\n",
       "⎢y₃  -x₃  0  1⎥\n",
       "⎢             ⎥\n",
       "⎢x₄  y₄   1  0⎥\n",
       "⎢             ⎥\n",
       "⎢y₄  -x₄  0  1⎥\n",
       "⎢             ⎥\n",
       "⎢x₅  y₅   1  0⎥\n",
       "⎢             ⎥\n",
       "⎢y₅  -x₅  0  1⎥\n",
       "⎢             ⎥\n",
       "⎢x₆  y₆   1  0⎥\n",
       "⎢             ⎥\n",
       "⎣y₆  -x₆  0  1⎦"
      ]
     },
     "execution_count": 166,
     "metadata": {},
     "output_type": "execute_result"
    }
   ],
   "source": [
    "In_ex"
   ]
  },
  {
   "cell_type": "code",
   "execution_count": 167,
   "metadata": {
    "collapsed": true
   },
   "outputs": [],
   "source": [
    "Out_ex = sp.Matrix([[xs0],[ys0],[xs2],[ys1],[xs2],[ys2],[xs3],[ys3],[xs4],[ys4],[xs5],[ys5],[xs6],[ys6]])"
   ]
  },
  {
   "cell_type": "code",
   "execution_count": 168,
   "metadata": {
    "collapsed": false
   },
   "outputs": [
    {
     "data": {
      "text/latex": [
       "$$\\left[\\begin{matrix}x_{s0}\\\\y_{s0}\\\\x_{s2}\\\\y_{s1}\\\\x_{s2}\\\\y_{s2}\\\\x_{s3}\\\\y_{s3}\\\\x_{s4}\\\\y_{s4}\\\\x_{s5}\\\\y_{s5}\\\\x_{s6}\\\\y_{s6}\\end{matrix}\\right]$$"
      ],
      "text/plain": [
       "⎡x_s0⎤\n",
       "⎢    ⎥\n",
       "⎢y_s0⎥\n",
       "⎢    ⎥\n",
       "⎢x_s2⎥\n",
       "⎢    ⎥\n",
       "⎢y_s1⎥\n",
       "⎢    ⎥\n",
       "⎢x_s2⎥\n",
       "⎢    ⎥\n",
       "⎢y_s2⎥\n",
       "⎢    ⎥\n",
       "⎢x_s3⎥\n",
       "⎢    ⎥\n",
       "⎢y_s3⎥\n",
       "⎢    ⎥\n",
       "⎢x_s4⎥\n",
       "⎢    ⎥\n",
       "⎢y_s4⎥\n",
       "⎢    ⎥\n",
       "⎢x_s5⎥\n",
       "⎢    ⎥\n",
       "⎢y_s5⎥\n",
       "⎢    ⎥\n",
       "⎢x_s6⎥\n",
       "⎢    ⎥\n",
       "⎣y_s6⎦"
      ]
     },
     "execution_count": 168,
     "metadata": {},
     "output_type": "execute_result"
    }
   ],
   "source": [
    "Out_ex"
   ]
  },
  {
   "cell_type": "code",
   "execution_count": 169,
   "metadata": {
    "collapsed": false
   },
   "outputs": [
    {
     "data": {
      "image/png": "[encoded data removed]",
      "text/latex": [
       "$$\\left [ \\left ( 30, \\quad 30\\right ), \\quad \\left ( 150, \\quad 30\\right ), \\quad \\left ( 30, \\quad 90\\right ), \\quad \\left ( 90, \\quad 90\\right ), \\quad \\left ( 150, \\quad 90\\right ), \\quad \\left ( 30, \\quad 150\\right ), \\quad \\left ( 150, \\quad 150\\right )\\right ]$$"
      ],
      "text/plain": [
       "[(30, 30), (150, 30), (30, 90), (90, 90), (150, 90), (30, 150), (150, 150)]"
      ]
     },
     "execution_count": 169,
     "metadata": {},
     "output_type": "execute_result"
    }
   ],
   "source": [
    "entradas"
   ]
  },
  {
   "cell_type": "code",
   "execution_count": 170,
   "metadata": {
    "collapsed": false
   },
   "outputs": [
    {
     "data": {
      "image/png": "[encoded data removed]",
      "text/latex": [
       "$$\\left [ \\left ( 138, \\quad 96\\right ), \\quad \\left ( 249, \\quad 141\\right ), \\quad \\left ( 115, \\quad 151\\right ), \\quad \\left ( 170, \\quad 174\\right ), \\quad \\left ( 226, \\quad 197\\right ), \\quad \\left ( 92, \\quad 206\\right ), \\quad \\left ( 203, \\quad 252\\right )\\right ]$$"
      ],
      "text/plain": [
       "[(138, 96), (249, 141), (115, 151), (170, 174), (226, 197), (92, 206), (203, 2\n",
       "52)]"
      ]
     },
     "execution_count": 170,
     "metadata": {},
     "output_type": "execute_result"
    }
   ],
   "source": [
    "saidas"
   ]
  },
  {
   "cell_type": "code",
   "execution_count": 171,
   "metadata": {
    "collapsed": false
   },
   "outputs": [],
   "source": [
    "In = sp.Matrix([[entradas[0][0],entradas[0][1],1,0],[entradas[0][1],-entradas[0][0],0,1],[entradas[1][0],entradas[1][1],1,0],[entradas[1][1],-entradas[1][0],0,1],[entradas[2][0],entradas[2][1],1,0],[entradas[2][1],-entradas[2][0],0,1],[entradas[3][0],entradas[3][1],1,0],[entradas[3][1],-entradas[3][0],0,1],[entradas[4][0],entradas[4][1],1,0],[entradas[4][1],-entradas[4][0],0,1],[entradas[5][0],entradas[5][1],1,0],[entradas[5][1],-entradas[5][0],0,1],[entradas[6][0],entradas[6][1],1,0],[entradas[6][1],-entradas[6][0],0,1]])"
   ]
  },
  {
   "cell_type": "code",
   "execution_count": 172,
   "metadata": {
    "collapsed": false,
    "scrolled": true
   },
   "outputs": [
    {
     "data": {
      "text/latex": [
       "$$\\left[\\begin{matrix}30 & 30 & 1 & 0\\\\30 & -30 & 0 & 1\\\\150 & 30 & 1 & 0\\\\30 & -150 & 0 & 1\\\\30 & 90 & 1 & 0\\\\90 & -30 & 0 & 1\\\\90 & 90 & 1 & 0\\\\90 & -90 & 0 & 1\\\\150 & 90 & 1 & 0\\\\90 & -150 & 0 & 1\\\\30 & 150 & 1 & 0\\\\150 & -30 & 0 & 1\\\\150 & 150 & 1 & 0\\\\150 & -150 & 0 & 1\\end{matrix}\\right]$$"
      ],
      "text/plain": [
       "⎡30    30   1  0⎤\n",
       "⎢               ⎥\n",
       "⎢30   -30   0  1⎥\n",
       "⎢               ⎥\n",
       "⎢150   30   1  0⎥\n",
       "⎢               ⎥\n",
       "⎢30   -150  0  1⎥\n",
       "⎢               ⎥\n",
       "⎢30    90   1  0⎥\n",
       "⎢               ⎥\n",
       "⎢90   -30   0  1⎥\n",
       "⎢               ⎥\n",
       "⎢90    90   1  0⎥\n",
       "⎢               ⎥\n",
       "⎢90   -90   0  1⎥\n",
       "⎢               ⎥\n",
       "⎢150   90   1  0⎥\n",
       "⎢               ⎥\n",
       "⎢90   -150  0  1⎥\n",
       "⎢               ⎥\n",
       "⎢30   150   1  0⎥\n",
       "⎢               ⎥\n",
       "⎢150  -30   0  1⎥\n",
       "⎢               ⎥\n",
       "⎢150  150   1  0⎥\n",
       "⎢               ⎥\n",
       "⎣150  -150  0  1⎦"
      ]
     },
     "execution_count": 172,
     "metadata": {},
     "output_type": "execute_result"
    }
   ],
   "source": [
    "In"
   ]
  },
  {
   "cell_type": "code",
   "execution_count": 173,
   "metadata": {
    "collapsed": false
   },
   "outputs": [
    {
     "data": {
      "image/png": "[encoded data removed]",
      "text/latex": [
       "$$\\left [ \\left ( 138, \\quad 96\\right ), \\quad \\left ( 249, \\quad 141\\right ), \\quad \\left ( 115, \\quad 151\\right ), \\quad \\left ( 170, \\quad 174\\right ), \\quad \\left ( 226, \\quad 197\\right ), \\quad \\left ( 92, \\quad 206\\right ), \\quad \\left ( 203, \\quad 252\\right )\\right ]$$"
      ],
      "text/plain": [
       "[(138, 96), (249, 141), (115, 151), (170, 174), (226, 197), (92, 206), (203, 2\n",
       "52)]"
      ]
     },
     "execution_count": 173,
     "metadata": {},
     "output_type": "execute_result"
    }
   ],
   "source": [
    "saidas"
   ]
  },
  {
   "cell_type": "code",
   "execution_count": 186,
   "metadata": {
    "collapsed": true
   },
   "outputs": [],
   "source": [
    "Out = sp.Matrix([saidas[0][0],saidas[0][1],saidas[1][0],saidas[1][1],saidas[2][0],saidas[2][1],saidas[3][0],saidas[3][1],saidas[4][0],saidas[4][1],saidas[5][0],saidas[5][1],saidas[6][0],saidas[6][1]])"
   ]
  },
  {
   "cell_type": "code",
   "execution_count": 187,
   "metadata": {
    "collapsed": false
   },
   "outputs": [
    {
     "data": {
      "text/latex": [
       "$$\\left[\\begin{matrix}138\\\\96\\\\249\\\\141\\\\115\\\\151\\\\170\\\\174\\\\226\\\\197\\\\92\\\\206\\\\203\\\\252\\end{matrix}\\right]$$"
      ],
      "text/plain": [
       "⎡138⎤\n",
       "⎢   ⎥\n",
       "⎢96 ⎥\n",
       "⎢   ⎥\n",
       "⎢249⎥\n",
       "⎢   ⎥\n",
       "⎢141⎥\n",
       "⎢   ⎥\n",
       "⎢115⎥\n",
       "⎢   ⎥\n",
       "⎢151⎥\n",
       "⎢   ⎥\n",
       "⎢170⎥\n",
       "⎢   ⎥\n",
       "⎢174⎥\n",
       "⎢   ⎥\n",
       "⎢226⎥\n",
       "⎢   ⎥\n",
       "⎢197⎥\n",
       "⎢   ⎥\n",
       "⎢92 ⎥\n",
       "⎢   ⎥\n",
       "⎢206⎥\n",
       "⎢   ⎥\n",
       "⎢203⎥\n",
       "⎢   ⎥\n",
       "⎣252⎦"
      ]
     },
     "execution_count": 187,
     "metadata": {},
     "output_type": "execute_result"
    }
   ],
   "source": [
    "Out"
   ]
  },
  {
   "cell_type": "code",
   "execution_count": 213,
   "metadata": {
    "collapsed": false
   },
   "outputs": [],
   "source": [
    "Parametros = linalg.lstsq(In,Out)[0] # obtaining the parameters"
   ]
  },
  {
   "cell_type": "code",
   "execution_count": 214,
   "metadata": {
    "collapsed": false
   },
   "outputs": [
    {
     "data": {
      "text/plain": [
       "array([[   0.92333333],\n",
       "       [  -0.38166667],\n",
       "       [ 121.67857143],\n",
       "       [  56.40714286]])"
      ]
     },
     "execution_count": 214,
     "metadata": {},
     "output_type": "execute_result"
    }
   ],
   "source": [
    "Parametros"
   ]
  },
  {
   "cell_type": "code",
   "execution_count": 215,
   "metadata": {
    "collapsed": false
   },
   "outputs": [],
   "source": [
    "alpha = Parametros[0]\n",
    "beta = Parametros[1]\n",
    "tx = Parametros[2]\n",
    "ty = Parametros[3]"
   ]
  },
  {
   "cell_type": "code",
   "execution_count": 223,
   "metadata": {
    "collapsed": false
   },
   "outputs": [],
   "source": [
    "Matriz = np.float32([[alpha,-beta,tx],[-alpha,-beta,ty]])\n",
    "#Matriz = sp.Matrix([[alpha,-beta,tx],[-alpha,-beta,ty]])"
   ]
  },
  {
   "cell_type": "code",
   "execution_count": 224,
   "metadata": {
    "collapsed": false
   },
   "outputs": [
    {
     "data": {
      "text/plain": [
       "array([[[   0.92333335],\n",
       "        [   0.38166666],\n",
       "        [ 121.67857361]],\n",
       "\n",
       "       [[  -0.92333335],\n",
       "        [   0.38166666],\n",
       "        [  56.40714264]]], dtype=float32)"
      ]
     },
     "execution_count": 224,
     "metadata": {},
     "output_type": "execute_result"
    }
   ],
   "source": [
    "Matriz"
   ]
  },
  {
   "cell_type": "code",
   "execution_count": 218,
   "metadata": {
    "collapsed": false
   },
   "outputs": [],
   "source": [
    "img = cv2.imread('dots_pattern.jpg')"
   ]
  },
  {
   "cell_type": "code",
   "execution_count": 219,
   "metadata": {
    "collapsed": false,
    "scrolled": true
   },
   "outputs": [
    {
     "data": {
      "text/plain": [
       "<matplotlib.image.AxesImage at 0x7fb0e3d8bed0>"
      ]
     },
     "execution_count": 219,
     "metadata": {},
     "output_type": "execute_result"
    },
    {
     "data": {
      "image/png": "[encoded data removed]",
      "text/plain": [
       "<matplotlib.figure.Figure at 0x7fb0e3f91410>"
      ]
     },
     "metadata": {},
     "output_type": "display_data"
    }
   ],
   "source": [
    "plt.imshow(blank)"
   ]
  },
  {
   "cell_type": "code",
   "execution_count": 225,
   "metadata": {
    "collapsed": false
   },
   "outputs": [],
   "source": [
    "cols,rows = blank.shape[:2]"
   ]
  },
  {
   "cell_type": "code",
   "execution_count": 226,
   "metadata": {
    "collapsed": false
   },
   "outputs": [],
   "source": [
    "Img = cv2.warpAffine(blank,Matriz,(cols,rows)) "
   ]
  },
  {
   "cell_type": "code",
   "execution_count": 228,
   "metadata": {
    "collapsed": false
   },
   "outputs": [
    {
     "data": {
      "text/plain": [
       "<matplotlib.image.AxesImage at 0x7fb0e35844d0>"
      ]
     },
     "execution_count": 228,
     "metadata": {},
     "output_type": "execute_result"
    },
    {
     "data": {
      "image/png": "[encoded data removed]",
      "text/plain": [
       "<matplotlib.figure.Figure at 0x7fb0e362c510>"
      ]
     },
     "metadata": {},
     "output_type": "display_data"
    }
   ],
   "source": [
    "plt.imshow(Img)"
   ]
  },
  {
   "cell_type": "code",
   "execution_count": null,
   "metadata": {
    "collapsed": true
   },
   "outputs": [],
   "source": []
  }
 ],
 "metadata": {
  "kernelspec": {
   "display_name": "Python 2",
   "language": "python",
   "name": "python2"
  },
  "language_info": {
   "codemirror_mode": {
    "name": "ipython",
    "version": 2
   },
   "file_extension": ".py",
   "mimetype": "text/x-python",
   "name": "python",
   "nbconvert_exporter": "python",
   "pygments_lexer": "ipython2",
   "version": "2.7.6"
  }
 },
 "nbformat": 4,
 "nbformat_minor": 0
}
